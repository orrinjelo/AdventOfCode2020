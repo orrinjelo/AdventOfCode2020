{
 "cells": [
  {
   "cell_type": "markdown",
   "metadata": {},
   "source": [
    "\n",
    "    1 + (2 * 3) + (4 * (5 + 6)) still becomes 51.\n",
    "    2 * 3 + (4 * 5) becomes 46.\n",
    "    5 + (8 * 3 + 9 + 3 * 4 * 3) becomes 1445.\n",
    "    5 * 9 * (7 * 3 * 3 + 9 * 3 + (8 + 6 * 4)) becomes 669060.\n",
    "    ((2 + 4 * 9) * (6 + 9 * 8 + 6) + 6) + 2 + 4 * 2 becomes 23340.\n"
   ]
  },
  {
   "cell_type": "code",
   "execution_count": 54,
   "metadata": {},
   "outputs": [],
   "source": [
    "def first_pass(eq, pos=0, rdepth=0):\n",
    "    stack = []\n",
    "    ci = pos\n",
    "    while ci != len(eq):\n",
    "        c = eq[ci]\n",
    "        if c.isnumeric():\n",
    "            if stack and stack[-1] == '+':\n",
    "                stack.pop(-1)\n",
    "                num = stack.pop(-1)\n",
    "                stack.append(num + int(c))\n",
    "            else:\n",
    "                stack.append(int(c))\n",
    "        elif c == ' ':\n",
    "            pass\n",
    "        elif c == '*':\n",
    "            stack.append('*')\n",
    "        elif c == '(':\n",
    "            rstack, ci = first_pass(eq, ci+1, rdepth+1)\n",
    "            for b in rstack:\n",
    "                if type(b) == int:\n",
    "                    if stack and stack[-1] == '+':\n",
    "                        stack.pop(-1)\n",
    "                        num = stack.pop(-1)\n",
    "                        stack.append(b + num)\n",
    "                    else:\n",
    "                        stack.append(b)\n",
    "                else:\n",
    "                    stack.append(b)\n",
    "        elif c == ')':\n",
    "            return second_pass(stack), ci\n",
    "        elif c == '+':\n",
    "            stack.append('+')\n",
    "        ci += 1\n",
    "#         print('{} stack: {} pos: {}'.format(' '*rdepth, stack, ci))\n",
    "    return second_pass(stack), pos\n",
    "\n",
    "def second_pass(stack):\n",
    "    lstack = []\n",
    "    for x in stack:\n",
    "        if type(x) == int:\n",
    "            if lstack and lstack[-1] == '*':\n",
    "                lstack.pop(-1)\n",
    "                num = lstack.pop(-1)\n",
    "                lstack.append(x * num)\n",
    "            elif lstack and lstack[-1] == '+': # Why this in second pass?\n",
    "                lstack.pop(-1)\n",
    "                num = lstack.pop(-1)\n",
    "                lstack.append(x + num)\n",
    "            else:\n",
    "                lstack.append(x)\n",
    "        elif x == '*':\n",
    "            lstack.append('*')\n",
    "        elif x == '+':\n",
    "            lstack.append('+')\n",
    "    return lstack"
   ]
  },
  {
   "cell_type": "code",
   "execution_count": 55,
   "metadata": {},
   "outputs": [
    {
     "data": {
      "text/plain": [
       "([51], 0)"
      ]
     },
     "execution_count": 55,
     "metadata": {},
     "output_type": "execute_result"
    }
   ],
   "source": [
    "first_pass(\"1 + (2 * 3) + (4 * (5 + 6))\")"
   ]
  },
  {
   "cell_type": "code",
   "execution_count": 56,
   "metadata": {},
   "outputs": [
    {
     "data": {
      "text/plain": [
       "([46], 0)"
      ]
     },
     "execution_count": 56,
     "metadata": {},
     "output_type": "execute_result"
    }
   ],
   "source": [
    "first_pass(\"2 * 3 + (4 * 5)\")"
   ]
  },
  {
   "cell_type": "code",
   "execution_count": 57,
   "metadata": {},
   "outputs": [
    {
     "data": {
      "text/plain": [
       "([1445], 0)"
      ]
     },
     "execution_count": 57,
     "metadata": {},
     "output_type": "execute_result"
    }
   ],
   "source": [
    "first_pass(\"5 + (8 * 3 + 9 + 3 * 4 * 3)\")"
   ]
  },
  {
   "cell_type": "code",
   "execution_count": 58,
   "metadata": {},
   "outputs": [
    {
     "data": {
      "text/plain": [
       "([669060], 0)"
      ]
     },
     "execution_count": 58,
     "metadata": {},
     "output_type": "execute_result"
    }
   ],
   "source": [
    "first_pass(\"5 * 9 * (7 * 3 * 3 + 9 * 3 + (8 + 6 * 4))\")"
   ]
  },
  {
   "cell_type": "code",
   "execution_count": 59,
   "metadata": {},
   "outputs": [
    {
     "data": {
      "text/plain": [
       "([23340], 0)"
      ]
     },
     "execution_count": 59,
     "metadata": {},
     "output_type": "execute_result"
    }
   ],
   "source": [
    "first_pass(\"((2 + 4 * 9) * (6 + 9 * 8 + 6) + 6) + 2 + 4 * 2\")"
   ]
  },
  {
   "cell_type": "code",
   "execution_count": 61,
   "metadata": {},
   "outputs": [],
   "source": [
    "with open('../inputs/18.txt') as f:\n",
    "    lines = f.readlines()"
   ]
  },
  {
   "cell_type": "code",
   "execution_count": 66,
   "metadata": {},
   "outputs": [
    {
     "name": "stdout",
     "output_type": "stream",
     "text": [
      "276894767062189\n"
     ]
    }
   ],
   "source": [
    "s = 0\n",
    "for line in lines:\n",
    "    res, _ = first_pass(line.strip())\n",
    "    s += res[0]\n",
    "print(s)"
   ]
  },
  {
   "cell_type": "code",
   "execution_count": null,
   "metadata": {},
   "outputs": [],
   "source": []
  }
 ],
 "metadata": {
  "kernelspec": {
   "display_name": "Python 3",
   "language": "python",
   "name": "python3"
  },
  "language_info": {
   "codemirror_mode": {
    "name": "ipython",
    "version": 3
   },
   "file_extension": ".py",
   "mimetype": "text/x-python",
   "name": "python",
   "nbconvert_exporter": "python",
   "pygments_lexer": "ipython3",
   "version": "3.6.9"
  }
 },
 "nbformat": 4,
 "nbformat_minor": 4
}
