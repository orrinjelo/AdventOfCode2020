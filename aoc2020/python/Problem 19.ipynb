{
 "cells": [
  {
   "cell_type": "markdown",
   "metadata": {},
   "source": [
    "```\n",
    "0: 1 2\n",
    "1: \"a\"\n",
    "2: 1 3 | 3 1\n",
    "3: \"b\"\n",
    "```"
   ]
  },
  {
   "cell_type": "code",
   "execution_count": 3,
   "metadata": {},
   "outputs": [],
   "source": [
    "def parse_line(l):\n",
    "    parts = l.split(':')\n",
    "    rule_no = int(parts[0])\n",
    "    rule_parts = parts[1].split('|')\n",
    "    rules = []\n",
    "    for rpart in rule_parts:\n",
    "        if '\"' in rpart:\n",
    "            rules.append(rpart.strip('\" '))\n",
    "        else:\n",
    "            rule_l = []\n",
    "            for i in rpart.strip(' ').split(' '):\n",
    "                rule_l.append(int(i))\n",
    "            rules.append(rule_l)\n",
    "    return rule_no, rules"
   ]
  },
  {
   "cell_type": "code",
   "execution_count": 4,
   "metadata": {},
   "outputs": [
    {
     "data": {
      "text/plain": [
       "(0, [[1, 2]])"
      ]
     },
     "execution_count": 4,
     "metadata": {},
     "output_type": "execute_result"
    }
   ],
   "source": [
    "parse_line(\"0: 1 2\")"
   ]
  },
  {
   "cell_type": "code",
   "execution_count": 5,
   "metadata": {},
   "outputs": [
    {
     "data": {
      "text/plain": [
       "(1, ['a'])"
      ]
     },
     "execution_count": 5,
     "metadata": {},
     "output_type": "execute_result"
    }
   ],
   "source": [
    "parse_line('1: \"a\"')"
   ]
  },
  {
   "cell_type": "code",
   "execution_count": 6,
   "metadata": {},
   "outputs": [
    {
     "data": {
      "text/plain": [
       "(2, [[1, 3], [3, 1]])"
      ]
     },
     "execution_count": 6,
     "metadata": {},
     "output_type": "execute_result"
    }
   ],
   "source": [
    "parse_line('2: 1 3 | 3 1')"
   ]
  },
  {
   "cell_type": "code",
   "execution_count": 4,
   "metadata": {},
   "outputs": [],
   "source": [
    "with open('../inputs/19.txt', 'r') as f:\n",
    "    lines = f.readlines()\n",
    "\n",
    "rules = {}\n",
    "codex = []\n",
    "building_rules = True\n",
    "\n",
    "for line in lines:\n",
    "    if line.strip() == \"\":\n",
    "        building_rules = False\n",
    "    if building_rules:\n",
    "        no, rule = parse_line(line.strip())\n",
    "        rules[no] = rule\n",
    "    else:\n",
    "        codex.append(line.strip())"
   ]
  },
  {
   "cell_type": "code",
   "execution_count": 1,
   "metadata": {},
   "outputs": [],
   "source": [
    "def combine(r):\n",
    "    ret = []\n",
    "    if len(r) == 1:\n",
    "        return r[0]\n",
    "    else:\n",
    "        if type(r[0]) == str and type(r[1]) == str:\n",
    "            return r\n",
    "        elif type(r[0]) == str and type(r[1]) == list:\n",
    "            r[1] = combine(r[1])\n",
    "            for b in r[1]:\n",
    "                ret.append(r[0] + b)\n",
    "        elif type(r[0]) == list and type(r[1]) == str:\n",
    "            r[0] = combine(r[0])\n",
    "            for a in r[0]:\n",
    "                ret.append(a + r[1])\n",
    "        else:\n",
    "            r[0] = combine(r[0])\n",
    "            r[1] = combine(r[1])\n",
    "            for a in r[0]:\n",
    "                for b in r[1]:\n",
    "                    ret.append(a + b)\n",
    "    return ret"
   ]
  },
  {
   "cell_type": "code",
   "execution_count": 2,
   "metadata": {},
   "outputs": [
    {
     "name": "stdout",
     "output_type": "stream",
     "text": [
      "a\n",
      "['a', 'b']\n",
      "['a', 'b']\n",
      "['ab', 'aa']\n",
      "['ab', 'aa', 'bb', 'ba']\n",
      "['aba', 'abb', 'aaa', 'aab', 'bba', 'bbb', 'baa', 'bab']\n"
     ]
    }
   ],
   "source": [
    "print(combine(['a']))\n",
    "print(combine(['a', 'b']))\n",
    "print(combine([['a', 'b']]))\n",
    "print(combine(['a',['b', 'a']]))\n",
    "print(combine([['a','b'],['b', 'a']]))\n",
    "print(combine([['a','b'],[['b','a'], ['a','b']]]))"
   ]
  },
  {
   "cell_type": "code",
   "execution_count": 5,
   "metadata": {},
   "outputs": [],
   "source": [
    "def build_dictionary(rules, r=0):\n",
    "    current_rule = rules[r]\n",
    "    ret = []\n",
    "    for subrule in current_rule:\n",
    "        if type(subrule[0]) == str:\n",
    "            ret.append(subrule)\n",
    "        else:\n",
    "            almost_ret = []\n",
    "            for entry in subrule:\n",
    "                res = build_dictionary(rules, entry)\n",
    "                almost_ret.append(combine(res))\n",
    "            ret.append(combine(almost_ret))\n",
    "    return combine(ret)"
   ]
  },
  {
   "cell_type": "code",
   "execution_count": 6,
   "metadata": {},
   "outputs": [
    {
     "data": {
      "text/plain": [
       "['aab', 'aaa', 'abb', 'aba']"
      ]
     },
     "execution_count": 6,
     "metadata": {},
     "output_type": "execute_result"
    }
   ],
   "source": [
    "test_rules = {\n",
    "    0: [[1, 2]],\n",
    "    1: [[\"a\"]],\n",
    "    2: [[1, 3], [3, 1]],\n",
    "    3: [[\"b\"]]\n",
    "}\n",
    "build_dictionary(test_rules)"
   ]
  },
  {
   "cell_type": "code",
   "execution_count": null,
   "metadata": {},
   "outputs": [],
   "source": [
    "build_dictionary(rules)"
   ]
  },
  {
   "cell_type": "code",
   "execution_count": null,
   "metadata": {},
   "outputs": [],
   "source": []
  }
 ],
 "metadata": {
  "kernelspec": {
   "display_name": "Python 3",
   "language": "python",
   "name": "python3"
  },
  "language_info": {
   "codemirror_mode": {
    "name": "ipython",
    "version": 3
   },
   "file_extension": ".py",
   "mimetype": "text/x-python",
   "name": "python",
   "nbconvert_exporter": "python",
   "pygments_lexer": "ipython3",
   "version": "3.6.9"
  }
 },
 "nbformat": 4,
 "nbformat_minor": 4
}
